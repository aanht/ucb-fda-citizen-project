{
  "metadata": {
    "kernelspec": {
      "name": "python",
      "display_name": "Python (Pyodide)",
      "language": "python"
    },
    "language_info": {
      "codemirror_mode": {
        "name": "python",
        "version": 3
      },
      "file_extension": ".py",
      "mimetype": "text/x-python",
      "name": "python",
      "nbconvert_exporter": "python",
      "pygments_lexer": "ipython3",
      "version": "3.8"
    }
  },
  "nbformat_minor": 5,
  "nbformat": 4,
  "cells": [
    {
      "id": "792bccb8-c307-4df2-a2bb-fa2b10f961dd",
      "cell_type": "markdown",
      "source": "# OCT 1, 2025 - Tinkering with Data Analysis",
      "metadata": {
        "tags": [],
        "editable": true,
        "slideshow": {
          "slide_type": ""
        },
        "raw_mimetype": ""
      }
    },
    {
      "id": "34846094-0c90-4d52-a9c0-077afaf963cc",
      "cell_type": "markdown",
      "source": "#### Some ideas:\n* response time (b/w each \"category\" of petitions, individuals vs big companies,   \n* count of big companies vs individuals\n* type of requests being made\n* success rate: type of requests being denied vs approved\n* what specifically gets a petition denied/approved?",
      "metadata": {
        "tags": [],
        "editable": true,
        "slideshow": {
          "slide_type": ""
        }
      }
    },
    {
      "id": "d5a06bd0-d560-46bc-bfde-e8621f09184b",
      "cell_type": "code",
      "source": "%pip install seaborn\n%pip install pandas\n%pip install numpy",
      "metadata": {
        "trusted": true,
        "tags": [],
        "editable": true,
        "slideshow": {
          "slide_type": ""
        }
      },
      "outputs": [],
      "execution_count": 1
    },
    {
      "id": "f92d31ae-e372-4914-8977-d87f1ffe7bed",
      "cell_type": "code",
      "source": "import numpy as np\nimport pandas as pd\nimport matplotlib.pyplot as plt\nimport seaborn as sns\nimport re",
      "metadata": {
        "trusted": true,
        "tags": [],
        "editable": true,
        "slideshow": {
          "slide_type": ""
        }
      },
      "outputs": [
        {
          "name": "stderr",
          "output_type": "stream",
          "text": "Matplotlib is building the font cache; this may take a moment.\n"
        }
      ],
      "execution_count": 2
    },
    {
      "id": "f3ff2d95-b478-45c9-b928-f4894b0212d7",
      "cell_type": "code",
      "source": "petitions_2017 = pd.read_csv(\"data/2017_PETITIONS_COMPLETE_071825_MP.xlsx - Sheet1.csv\")\nresponses_2017 = pd.read_csv(\"data/2017_RESPONSES_COMPLETE_071825_MP.xlsx - Sheet1.csv\")\npharma_comps = pd.read_csv(\"data/WR-Issued-June-2024-Approved-Active-Moiety-6-27-24.csv\")",
      "metadata": {
        "trusted": true,
        "tags": [],
        "editable": true,
        "slideshow": {
          "slide_type": ""
        }
      },
      "outputs": [],
      "execution_count": 3
    },
    {
      "id": "c02f9daf-4b28-4cf0-bf74-baa1f7c496b2",
      "cell_type": "code",
      "source": "petitions_2017.sort_values(\"Identity of Submitting Entity\").head(3)",
      "metadata": {
        "trusted": true
      },
      "outputs": [
        {
          "execution_count": 4,
          "output_type": "execute_result",
          "data": {
            "text/plain": "                                             File Name Date of Petition  \\\n34   FDA-2017-P-1251-0001_Citizen_Petition_from_Ame...        2/27/2017   \n138  FDA-2017-P-4372-0002_Citizen_Petition_from_AEG...              NaN   \n52   FDA-2017-P-1990-0001_Citizen_Petition_from_AID...        3/23/2017   \n\n                                         Date Comments  \\\n34                                                 NaN   \n138  No date recognized by ChatGPT nor apparent thr...   \n52   Letterhead dated March 23, but stamp reflects ...   \n\n                         Identity of Submitting Entity Representation Details  \\\n34   - American Feed Industry Association (AFIA)\\n-...         Not mentioned.   \n138                             AEGIS Regulatory, Inc.         Not mentioned.   \n52                                        AIDP, Inc.\\n         Not mentioned.   \n\n                         Cited Statutes or Regulations  \\\n34   - 21 U.S.C. §§ 351(a)(2)(B), 360b(m), 371(a), ...   \n138  - 21 C.F.R. § 10.30 (Citizen Petition)\\n- 21 C...   \n52   - 21 C.F.R. § 10.30\\n- 21 C.F.R. § 101.9(c)(6)...   \n\n                               FDA Action Commented On  \\\n34   The application of 21 C.F.R. Part 11 (electron...   \n138  Enforcement and importation practices regardin...   \n52   Definition of dietary fiber under the revised ...   \n\n                                      Requested Action  \\\n34   - Exempt all medicated feed cGMP-related recor...   \n138  - Prohibit the entry of adulterated cosmetic p...   \n52   Amend 21 C.F.R. § 101.9(c)(6)(i) to include xy...   \n\n                             Justification for Request  Status of Review  \\\n34   - High cost and burden of Part 11 compliance (...             False   \n138  - Reports of adverse health effects including ...             False   \n52   AIDP presented evidence that XOS provides mult...             False   \n\n    Review Comments  \n34              NaN  \n138             NaN  \n52              NaN  ",
            "text/html": "<div>\n<style scoped>\n    .dataframe tbody tr th:only-of-type {\n        vertical-align: middle;\n    }\n\n    .dataframe tbody tr th {\n        vertical-align: top;\n    }\n\n    .dataframe thead th {\n        text-align: right;\n    }\n</style>\n<table border=\"1\" class=\"dataframe\">\n  <thead>\n    <tr style=\"text-align: right;\">\n      <th></th>\n      <th>File Name</th>\n      <th>Date of Petition</th>\n      <th>Date Comments</th>\n      <th>Identity of Submitting Entity</th>\n      <th>Representation Details</th>\n      <th>Cited Statutes or Regulations</th>\n      <th>FDA Action Commented On</th>\n      <th>Requested Action</th>\n      <th>Justification for Request</th>\n      <th>Status of Review</th>\n      <th>Review Comments</th>\n    </tr>\n  </thead>\n  <tbody>\n    <tr>\n      <th>34</th>\n      <td>FDA-2017-P-1251-0001_Citizen_Petition_from_Ame...</td>\n      <td>2/27/2017</td>\n      <td>NaN</td>\n      <td>- American Feed Industry Association (AFIA)\\n-...</td>\n      <td>Not mentioned.</td>\n      <td>- 21 U.S.C. §§ 351(a)(2)(B), 360b(m), 371(a), ...</td>\n      <td>The application of 21 C.F.R. Part 11 (electron...</td>\n      <td>- Exempt all medicated feed cGMP-related recor...</td>\n      <td>- High cost and burden of Part 11 compliance (...</td>\n      <td>False</td>\n      <td>NaN</td>\n    </tr>\n    <tr>\n      <th>138</th>\n      <td>FDA-2017-P-4372-0002_Citizen_Petition_from_AEG...</td>\n      <td>NaN</td>\n      <td>No date recognized by ChatGPT nor apparent thr...</td>\n      <td>AEGIS Regulatory, Inc.</td>\n      <td>Not mentioned.</td>\n      <td>- 21 C.F.R. § 10.30 (Citizen Petition)\\n- 21 C...</td>\n      <td>Enforcement and importation practices regardin...</td>\n      <td>- Prohibit the entry of adulterated cosmetic p...</td>\n      <td>- Reports of adverse health effects including ...</td>\n      <td>False</td>\n      <td>NaN</td>\n    </tr>\n    <tr>\n      <th>52</th>\n      <td>FDA-2017-P-1990-0001_Citizen_Petition_from_AID...</td>\n      <td>3/23/2017</td>\n      <td>Letterhead dated March 23, but stamp reflects ...</td>\n      <td>AIDP, Inc.\\n</td>\n      <td>Not mentioned.</td>\n      <td>- 21 C.F.R. § 10.30\\n- 21 C.F.R. § 101.9(c)(6)...</td>\n      <td>Definition of dietary fiber under the revised ...</td>\n      <td>Amend 21 C.F.R. § 101.9(c)(6)(i) to include xy...</td>\n      <td>AIDP presented evidence that XOS provides mult...</td>\n      <td>False</td>\n      <td>NaN</td>\n    </tr>\n  </tbody>\n</table>\n</div>"
          },
          "metadata": {}
        }
      ],
      "execution_count": 4
    },
    {
      "id": "a29456c2-02f3-4cdc-8efd-27ecd35bae57",
      "cell_type": "code",
      "source": "responses_2017.head(3)",
      "metadata": {
        "trusted": true
      },
      "outputs": [
        {
          "execution_count": 5,
          "output_type": "execute_result",
          "data": {
            "text/plain": "                                           File Name Date of Response  \\\n0  FDA-2017-P-0052-0150_Interim_Response_from_CBE...              NaN   \n1  FDA-2017-P-0052-0203_Response_letter_from_FDA_...              NaN   \n2  FDA-2017-P-0115-0007_Memorandum_of_suitability...        6/12/2023   \n\n                                       Date Comments  \\\n0  No date recognized by ChatGPT, but found in si...   \n1  No date recognized by ChatGPT, but found in si...   \n2                                                NaN   \n\n                               Responding FDA Center Response to Petition  \\\n0  Center for Biologics Evaluation and Research (...     Interim Response   \n1  Center for Biologics Evaluation and Research (...               Denied   \n2    Center for Drug Evaluation and Research (CDER)             Withdrawn   \n\n                       Cited Statutes or Regulations  \\\n0  21 CFR 10.30(e)(2) (FDA regulations on citizen...   \n1  - Section 361 of the Public Health Service Act...   \n2                                   Not applicable.    \n\n                          Justification for Response  Status of Review  \\\n0  The FDA cites \"existence of other FDA prioriti...             False   \n1  The FDA denied the petition based on the follo...             False   \n2  - FDA contacted the petitioner (Jubilant Gener...             False   \n\n  Review Comments  \n0             NaN  \n1             NaN  \n2             NaN  ",
            "text/html": "<div>\n<style scoped>\n    .dataframe tbody tr th:only-of-type {\n        vertical-align: middle;\n    }\n\n    .dataframe tbody tr th {\n        vertical-align: top;\n    }\n\n    .dataframe thead th {\n        text-align: right;\n    }\n</style>\n<table border=\"1\" class=\"dataframe\">\n  <thead>\n    <tr style=\"text-align: right;\">\n      <th></th>\n      <th>File Name</th>\n      <th>Date of Response</th>\n      <th>Date Comments</th>\n      <th>Responding FDA Center</th>\n      <th>Response to Petition</th>\n      <th>Cited Statutes or Regulations</th>\n      <th>Justification for Response</th>\n      <th>Status of Review</th>\n      <th>Review Comments</th>\n    </tr>\n  </thead>\n  <tbody>\n    <tr>\n      <th>0</th>\n      <td>FDA-2017-P-0052-0150_Interim_Response_from_CBE...</td>\n      <td>NaN</td>\n      <td>No date recognized by ChatGPT, but found in si...</td>\n      <td>Center for Biologics Evaluation and Research (...</td>\n      <td>Interim Response</td>\n      <td>21 CFR 10.30(e)(2) (FDA regulations on citizen...</td>\n      <td>The FDA cites \"existence of other FDA prioriti...</td>\n      <td>False</td>\n      <td>NaN</td>\n    </tr>\n    <tr>\n      <th>1</th>\n      <td>FDA-2017-P-0052-0203_Response_letter_from_FDA_...</td>\n      <td>NaN</td>\n      <td>No date recognized by ChatGPT, but found in si...</td>\n      <td>Center for Biologics Evaluation and Research (...</td>\n      <td>Denied</td>\n      <td>- Section 361 of the Public Health Service Act...</td>\n      <td>The FDA denied the petition based on the follo...</td>\n      <td>False</td>\n      <td>NaN</td>\n    </tr>\n    <tr>\n      <th>2</th>\n      <td>FDA-2017-P-0115-0007_Memorandum_of_suitability...</td>\n      <td>6/12/2023</td>\n      <td>NaN</td>\n      <td>Center for Drug Evaluation and Research (CDER)</td>\n      <td>Withdrawn</td>\n      <td>Not applicable.</td>\n      <td>- FDA contacted the petitioner (Jubilant Gener...</td>\n      <td>False</td>\n      <td>NaN</td>\n    </tr>\n  </tbody>\n</table>\n</div>"
          },
          "metadata": {}
        }
      ],
      "execution_count": 5
    },
    {
      "id": "5a79917e-e26d-4c77-9260-c766972a06a7",
      "cell_type": "code",
      "source": "pharma_comps.head()",
      "metadata": {
        "trusted": true
      },
      "outputs": [
        {
          "execution_count": 6,
          "output_type": "execute_result",
          "data": {
            "text/plain": "                      Active Moiety                       Sponsor Date Issued  \\\n0                          Abacavir          Glaxo Wellcome, Inc.     8/20/98   \n1  Abacavir/Dolutegravir/Lamivudine       ViiV Healthcare Company     5/16/18   \n2                         Abatacept  Bristol-Myers Squibb Company     9/13/13   \n3                       Abemaciclib               Eli Lilly & Co.      6/7/19   \n4                       Acamprosate                   Forest Labs     11/9/05   \n\n   Unnamed: 3  Unnamed: 4  \n0         NaN         NaN  \n1         NaN         NaN  \n2         NaN         NaN  \n3         NaN         NaN  \n4         NaN         NaN  ",
            "text/html": "<div>\n<style scoped>\n    .dataframe tbody tr th:only-of-type {\n        vertical-align: middle;\n    }\n\n    .dataframe tbody tr th {\n        vertical-align: top;\n    }\n\n    .dataframe thead th {\n        text-align: right;\n    }\n</style>\n<table border=\"1\" class=\"dataframe\">\n  <thead>\n    <tr style=\"text-align: right;\">\n      <th></th>\n      <th>Active Moiety</th>\n      <th>Sponsor</th>\n      <th>Date Issued</th>\n      <th>Unnamed: 3</th>\n      <th>Unnamed: 4</th>\n    </tr>\n  </thead>\n  <tbody>\n    <tr>\n      <th>0</th>\n      <td>Abacavir</td>\n      <td>Glaxo Wellcome, Inc.</td>\n      <td>8/20/98</td>\n      <td>NaN</td>\n      <td>NaN</td>\n    </tr>\n    <tr>\n      <th>1</th>\n      <td>Abacavir/Dolutegravir/Lamivudine</td>\n      <td>ViiV Healthcare Company</td>\n      <td>5/16/18</td>\n      <td>NaN</td>\n      <td>NaN</td>\n    </tr>\n    <tr>\n      <th>2</th>\n      <td>Abatacept</td>\n      <td>Bristol-Myers Squibb Company</td>\n      <td>9/13/13</td>\n      <td>NaN</td>\n      <td>NaN</td>\n    </tr>\n    <tr>\n      <th>3</th>\n      <td>Abemaciclib</td>\n      <td>Eli Lilly &amp; Co.</td>\n      <td>6/7/19</td>\n      <td>NaN</td>\n      <td>NaN</td>\n    </tr>\n    <tr>\n      <th>4</th>\n      <td>Acamprosate</td>\n      <td>Forest Labs</td>\n      <td>11/9/05</td>\n      <td>NaN</td>\n      <td>NaN</td>\n    </tr>\n  </tbody>\n</table>\n</div>"
          },
          "metadata": {}
        }
      ],
      "execution_count": 6
    },
    {
      "id": "e0e84af1-979e-44ad-bdd2-d7de2c6773cb",
      "cell_type": "markdown",
      "source": "## Feature Engineering",
      "metadata": {}
    },
    {
      "id": "be1b3e62-2554-4685-9eb3-6ab03bc3c6ba",
      "cell_type": "markdown",
      "source": "### Labeling the submitters",
      "metadata": {}
    },
    {
      "id": "c1189834-2609-4692-ab3f-ab088ff0ba68",
      "cell_type": "markdown",
      "source": "#### Cleaning \"Identity of Submitting Entity\"\n* petitions filed by individuals usually labeled by:\n    * \"Individual citizen petition...\"\n    * \"Multiple co-signatories:...\"\n    * \"Public Citizen\" but be careful with \"Public Citizen’s Health Research Group\"\n    * specific names first and last (but whole title not ending in LLP, LLC, Inc, P.C; also be careful with companies having \"normal\" names at the beginning like wilson, kleinfeld, but dont end in llp, llc etc)\n    * \"Anonymous (redacted)\" (?)\n      \n    * ***individual: 'individual citizen', 'multiple co-signatories', 'anonymous', ' md', ' jd', ' pharmd', ' ph.d'*** \n\n* petitions filed by corps usually labeled by:\n    * ***industry/corporate: 'llc', 'inc', 'pharma', 'ltd', limited', 'corp', 'laboratories', 'technologies'***\n\n    * ***law/consulting: 'llp', 'p.c.', 'law', 'legal', 'consultant', 'regulatory', 'associates'***\n\n    * ***advocacy/academic: 'association', 'university', 'center for', 'society', 'foundation'***\n\n\n#### What to clean\n* \"\\n\", \"\\t\" at the end of some\n* different variations\n  * 'Kleinfeld, Kaplan & Becker LLP',\n  * 'Kleinfeld, Kaplan & Becker, LLP',\n  * 'Kleinfeld, Kaplan and Becker LLP\\t',\n  * 'Kleinfeld, Kaplan and Becker, LLP\\n'\n\n  * 'Apotex Inc.\\n',\n  * 'Apotex Inc. and Apobiologix (a Division of Apotex Inc.) \\n'\n    \n  * 'INC Research, LLC',\n  * 'INC Research/inVentiv Health'\n* multiple corporations in single cell separated by dashes - or \"and\"\n  * '- American Feed Industry Association (AFIA)\\n- National Grain and Feed Association (NGFA)'\n  * 'Abhai, LLC and KVK-Tech, Inc.'\n* edge cases:\n  * 'Kent Heckenlively, JD; also signed by Rima E. Laibow, MD and Ralph Fucetola, JD on behalf of Natural Solutions Foundation and Institute for Health Research respectively \\n'\n  * 'NJOY, along with:\\n- Vapor Technology Association\\n- SFATA\\n- National Association of Tobacco Outlets, Inc.\\n- CITMA\\n- Turning Point Brands, Inc.\\n- Mistic Electronic Cigarettes\\n- Johnson Creek Vapor Company\\n- Nicopure Labs LLC\\n- Five Pawns Inc.\\n- Gaiatrend USA\\n- Glas, LLC\\n- Shift Ventures, Inc.\\n- E-Alternative Solutions, Inc.\\n- Saffire Vapor'",
      "metadata": {
        "tags": [],
        "editable": true,
        "slideshow": {
          "slide_type": ""
        }
      }
    },
    {
      "id": "49b6bed8-0c14-423f-a193-b7554138a6f5",
      "cell_type": "code",
      "source": "#petitions_2017[\"Identity of Submitting Entity\"].sort_values().unique()",
      "metadata": {
        "trusted": true
      },
      "outputs": [],
      "execution_count": 7
    },
    {
      "id": "f030a01d-4808-4bee-9765-4becb471039e",
      "cell_type": "code",
      "source": "# cleaning \"Identity of Submitting Entity\"\npetitions_2017_mod = petitions_2017.copy()\n\n# remove rows w/ no submitting entity\npetitions_2017_mod = petitions_2017_mod.dropna(subset = [\"Identity of Submitting Entity\"])\n\n# removing \"\\n\", \"\\t\", \"\\n-\", \"\\n•\\u202f\"\npetitions_2017_mod[\"Submitter\"] = petitions_2017_mod[\"Identity of Submitting Entity\"].astype(str)\npetitions_2017_mod[\"Submitter\"] = petitions_2017_mod[\"Submitter\"].str.strip().str.replace(\"\\n-\", \" \").str.replace(\"\\n•\\u202f\", \" \").str.replace(\"\\u202f\", \" \")\n\n#petitions_2017[\"Submitter\"].sort_values().unique()",
      "metadata": {
        "trusted": true
      },
      "outputs": [],
      "execution_count": 8
    },
    {
      "id": "dcfe2e24-d99c-42c2-b61f-804e65211b40",
      "cell_type": "code",
      "source": "# cleaning pharmaceutical companies corpus\n\n# drop last row bc NaN\npharma_comps = pharma_comps.drop(len(pharma_comps) - 1)\n\n# remove inc, lp, etc\ndef normalize_company_name(name):\n    name_lower = name.lower()\n    \n    # looks for common suffixes (inc, llc, etc.) and removes them from the end of the comp name\n    name_lower = re.sub(r'(\\s*,\\s*|\\s+)(inc|llc|l\\.p|lp|limited|corp|co|ltd)\\.?\\s*$', '', name_lower)\n    \n    # remove any remaining punctuation and extra whitespace\n    name_lower = re.sub(r'[^\\w\\s]', '', name_lower)\n    name_lower = name_lower.strip()\n    \n    return name_lower\n    \npharma_names_list = pharma_comps[\"Sponsor\"].str.lower().str.strip().sort_values().unique()\n#display(pharma_names_list)\n\npharma_names_norm = pharma_comps[\"Sponsor\"].apply(normalize_company_name).sort_values().unique()\n#display(pharma_names_norm.head)",
      "metadata": {
        "trusted": true
      },
      "outputs": [],
      "execution_count": 9
    },
    {
      "id": "715923e9-fd97-4880-947d-a3c0c9c47daa",
      "cell_type": "code",
      "source": "#if any(word in 'some one long two phrase three' for word in list_):\n# list of pharma companies for categorizing https://share.google/Lzg1nML50MNBjpQkP\n\n# categorize each submitter\nindividual_terms = ['individual', 'citizen', 'individual citizen', 'multiple co-signatories', ' md', ' jd', ' pharmd', ' ph.d', ' senator']\nindus_corp_terms = ['llc', 'inc', 'pharma', 'ltd', 'limited', 'corp', 'laboratories', 'technologies']\noutlier_indus = ['unilever']\nlaw_consult_terms = ['llp', 'p.c.', 'p.c', 'law', 'legal', 'consultant', 'consulting', 'regulatory', 'associates', 'solution']\nadvoc_academic_terms = ['association', 'university', 'center for', 'society', 'foundation', 'research group', 'research', \n                        'lab', 'registry', 'institute', 'council', 'choice']\n\ndef categorize_submitter(submitter_title):\n    submitter_title_lower = submitter_title.lower()\n    #submitter_title_norm = normalize_company_name(submitter_title)\n    \n    if pd.isna(submitter_title) or \"anonymous\" in submitter_title_lower:\n        return \"other\"\n        \n    elif submitter_title_lower in pharma_names_list or submitter_title_lower in pharma_names_norm:\n        return \"industry/corporation\"\n        \n    # for each identifier word in individual, industry, etc, check if that word exists in the title\n    if submitter_title_lower in outlier_indus or any(word in submitter_title_lower for word in indus_corp_terms):\n        return \"industry/corporation\"\n        \n    elif any(word in submitter_title_lower for word in law_consult_terms):\n        return \"law/consulting\"\n        \n    elif any(word in submitter_title_lower for word in advoc_academic_terms):\n        return \"advocacy/academic\"\n        \n    elif any(word in submitter_title_lower for word in individual_terms):\n        return \"individual\"\n\n    # check for short individual's names (usually first, middle, last)\n    elif len(submitter_title_lower.split()) <= 3:\n        return \"individual\"\n\n    else:\n        return \"other\"",
      "metadata": {
        "trusted": true,
        "tags": [],
        "editable": true,
        "slideshow": {
          "slide_type": ""
        }
      },
      "outputs": [],
      "execution_count": 10
    },
    {
      "id": "0cf5aebb-2eb6-4d35-9a34-d21d93b49a72",
      "cell_type": "code",
      "source": "petitions_2017_mod[\"Submitter Type\"] = petitions_2017_mod[\"Submitter\"].apply(categorize_submitter)\n#petitions_2017_mod[petitions_2017_mod[\"Submitter Type\"] == \"law/consulting\"]\n\npetitions_2017_mod[\"Submitter Type\"].value_counts()",
      "metadata": {
        "trusted": true
      },
      "outputs": [
        {
          "execution_count": 11,
          "output_type": "execute_result",
          "data": {
            "text/plain": "Submitter Type\nindustry/corporation    128\nlaw/consulting           78\nadvocacy/academic        15\nindividual               13\nother                     2\nName: count, dtype: int64"
          },
          "metadata": {}
        }
      ],
      "execution_count": 11
    },
    {
      "id": "07e52e71-6832-4cfc-9f98-cf56afbfa4c6",
      "cell_type": "code",
      "source": "display(petitions_2017_mod[petitions_2017_mod[\"Submitter Type\"] == \"advocacy/academic\"][[\"Submitter\", \"Submitter Type\"]])\ndisplay(petitions_2017_mod[petitions_2017_mod[\"Submitter Type\"] == \"other\"][[\"Submitter\", \"Submitter Type\"]])\ndisplay(petitions_2017_mod[petitions_2017_mod[\"Submitter Type\"] == \"individual\"][[\"Submitter\", \"Submitter Type\"]])",
      "metadata": {
        "trusted": true
      },
      "outputs": [
        {
          "output_type": "display_data",
          "data": {
            "text/plain": "                                             Submitter     Submitter Type\n0                               Donor Sibling Registry  advocacy/academic\n5    Malaysian Rubber Export Promotion Council (MREPC)  advocacy/academic\n11   Union of Concerned Scientists, Center for Scie...  advocacy/academic\n34   - American Feed Industry Association (AFIA)  N...  advocacy/academic\n38                       The Good Food Institute (GFI)  advocacy/academic\n66                         Consumers for Dental Choice  advocacy/academic\n75           The Tatia Oden French Memorial Foundation  advocacy/academic\n103                                        Salter Labs  advocacy/academic\n146                  American Dental Association (ADA)  advocacy/academic\n152                   Wilson Disease Association (WDA)  advocacy/academic\n165  Multiple co-signatories:  Andrew Kolodny, M.D....  advocacy/academic\n170        Post-Finasteride Syndrome Foundation (PFSF)  advocacy/academic\n221             Public Citizen’s Health Research Group  advocacy/academic\n227              St. Jude Children’s Research Hospital  advocacy/academic\n230  Natural Products Association (NPA) and Bergstr...  advocacy/academic",
            "text/html": "<div>\n<style scoped>\n    .dataframe tbody tr th:only-of-type {\n        vertical-align: middle;\n    }\n\n    .dataframe tbody tr th {\n        vertical-align: top;\n    }\n\n    .dataframe thead th {\n        text-align: right;\n    }\n</style>\n<table border=\"1\" class=\"dataframe\">\n  <thead>\n    <tr style=\"text-align: right;\">\n      <th></th>\n      <th>Submitter</th>\n      <th>Submitter Type</th>\n    </tr>\n  </thead>\n  <tbody>\n    <tr>\n      <th>0</th>\n      <td>Donor Sibling Registry</td>\n      <td>advocacy/academic</td>\n    </tr>\n    <tr>\n      <th>5</th>\n      <td>Malaysian Rubber Export Promotion Council (MREPC)</td>\n      <td>advocacy/academic</td>\n    </tr>\n    <tr>\n      <th>11</th>\n      <td>Union of Concerned Scientists, Center for Scie...</td>\n      <td>advocacy/academic</td>\n    </tr>\n    <tr>\n      <th>34</th>\n      <td>- American Feed Industry Association (AFIA)  N...</td>\n      <td>advocacy/academic</td>\n    </tr>\n    <tr>\n      <th>38</th>\n      <td>The Good Food Institute (GFI)</td>\n      <td>advocacy/academic</td>\n    </tr>\n    <tr>\n      <th>66</th>\n      <td>Consumers for Dental Choice</td>\n      <td>advocacy/academic</td>\n    </tr>\n    <tr>\n      <th>75</th>\n      <td>The Tatia Oden French Memorial Foundation</td>\n      <td>advocacy/academic</td>\n    </tr>\n    <tr>\n      <th>103</th>\n      <td>Salter Labs</td>\n      <td>advocacy/academic</td>\n    </tr>\n    <tr>\n      <th>146</th>\n      <td>American Dental Association (ADA)</td>\n      <td>advocacy/academic</td>\n    </tr>\n    <tr>\n      <th>152</th>\n      <td>Wilson Disease Association (WDA)</td>\n      <td>advocacy/academic</td>\n    </tr>\n    <tr>\n      <th>165</th>\n      <td>Multiple co-signatories:  Andrew Kolodny, M.D....</td>\n      <td>advocacy/academic</td>\n    </tr>\n    <tr>\n      <th>170</th>\n      <td>Post-Finasteride Syndrome Foundation (PFSF)</td>\n      <td>advocacy/academic</td>\n    </tr>\n    <tr>\n      <th>221</th>\n      <td>Public Citizen’s Health Research Group</td>\n      <td>advocacy/academic</td>\n    </tr>\n    <tr>\n      <th>227</th>\n      <td>St. Jude Children’s Research Hospital</td>\n      <td>advocacy/academic</td>\n    </tr>\n    <tr>\n      <th>230</th>\n      <td>Natural Products Association (NPA) and Bergstr...</td>\n      <td>advocacy/academic</td>\n    </tr>\n  </tbody>\n</table>\n</div>"
          },
          "metadata": {}
        },
        {
          "output_type": "display_data",
          "data": {
            "text/plain": "                Submitter Submitter Type\n98   Anonymous (redacted)          other\n100  Anonymous (redacted)          other",
            "text/html": "<div>\n<style scoped>\n    .dataframe tbody tr th:only-of-type {\n        vertical-align: middle;\n    }\n\n    .dataframe tbody tr th {\n        vertical-align: top;\n    }\n\n    .dataframe thead th {\n        text-align: right;\n    }\n</style>\n<table border=\"1\" class=\"dataframe\">\n  <thead>\n    <tr style=\"text-align: right;\">\n      <th></th>\n      <th>Submitter</th>\n      <th>Submitter Type</th>\n    </tr>\n  </thead>\n  <tbody>\n    <tr>\n      <th>98</th>\n      <td>Anonymous (redacted)</td>\n      <td>other</td>\n    </tr>\n    <tr>\n      <th>100</th>\n      <td>Anonymous (redacted)</td>\n      <td>other</td>\n    </tr>\n  </tbody>\n</table>\n</div>"
          },
          "metadata": {}
        },
        {
          "output_type": "display_data",
          "data": {
            "text/plain": "                                             Submitter Submitter Type\n21                                      Public Citizen     individual\n22                                          David Wong     individual\n69   Senator Charles E. Schumer and Senator Kirsten...     individual\n92   Individual citizen petition submitted jointly ...     individual\n93   Philip Spiller, along with:  George A. Gellert...     individual\n102                                      Michael Boggi     individual\n133                                  William Bonificio     individual\n151                                Chul-Hi Park, Ph.D.     individual\n163                                 Dennis L. Ryll, MD     individual\n164                                 Dennis L. Ryll, MD     individual\n205                                    Diana Wierzchos     individual\n209                                     Public Citizen     individual\n213          Dr. S. Albert Edwards, PharmD, RAC, FRAPS     individual",
            "text/html": "<div>\n<style scoped>\n    .dataframe tbody tr th:only-of-type {\n        vertical-align: middle;\n    }\n\n    .dataframe tbody tr th {\n        vertical-align: top;\n    }\n\n    .dataframe thead th {\n        text-align: right;\n    }\n</style>\n<table border=\"1\" class=\"dataframe\">\n  <thead>\n    <tr style=\"text-align: right;\">\n      <th></th>\n      <th>Submitter</th>\n      <th>Submitter Type</th>\n    </tr>\n  </thead>\n  <tbody>\n    <tr>\n      <th>21</th>\n      <td>Public Citizen</td>\n      <td>individual</td>\n    </tr>\n    <tr>\n      <th>22</th>\n      <td>David Wong</td>\n      <td>individual</td>\n    </tr>\n    <tr>\n      <th>69</th>\n      <td>Senator Charles E. Schumer and Senator Kirsten...</td>\n      <td>individual</td>\n    </tr>\n    <tr>\n      <th>92</th>\n      <td>Individual citizen petition submitted jointly ...</td>\n      <td>individual</td>\n    </tr>\n    <tr>\n      <th>93</th>\n      <td>Philip Spiller, along with:  George A. Gellert...</td>\n      <td>individual</td>\n    </tr>\n    <tr>\n      <th>102</th>\n      <td>Michael Boggi</td>\n      <td>individual</td>\n    </tr>\n    <tr>\n      <th>133</th>\n      <td>William Bonificio</td>\n      <td>individual</td>\n    </tr>\n    <tr>\n      <th>151</th>\n      <td>Chul-Hi Park, Ph.D.</td>\n      <td>individual</td>\n    </tr>\n    <tr>\n      <th>163</th>\n      <td>Dennis L. Ryll, MD</td>\n      <td>individual</td>\n    </tr>\n    <tr>\n      <th>164</th>\n      <td>Dennis L. Ryll, MD</td>\n      <td>individual</td>\n    </tr>\n    <tr>\n      <th>205</th>\n      <td>Diana Wierzchos</td>\n      <td>individual</td>\n    </tr>\n    <tr>\n      <th>209</th>\n      <td>Public Citizen</td>\n      <td>individual</td>\n    </tr>\n    <tr>\n      <th>213</th>\n      <td>Dr. S. Albert Edwards, PharmD, RAC, FRAPS</td>\n      <td>individual</td>\n    </tr>\n  </tbody>\n</table>\n</div>"
          },
          "metadata": {}
        }
      ],
      "execution_count": 12
    },
    {
      "id": "6d8adf64-cfeb-4ce7-9c3c-8ceda257861b",
      "cell_type": "code",
      "source": "# download to check bc too many rows\nfilter_industry = petitions_2017_mod[petitions_2017_mod[\"Submitter Type\"] == \"industry/corporation\"][[\"Submitter\", \"Submitter Type\"]]\nfilter_industry.to_csv(\"industry_check.csv\", index=False)\n\nfilter_law = petitions_2017_mod[petitions_2017_mod[\"Submitter Type\"] == \"law/consulting\"][[\"Submitter\", \"Submitter Type\"]]\nfilter_law.to_csv(\"law_check.csv\", index=False)",
      "metadata": {
        "trusted": true
      },
      "outputs": [],
      "execution_count": 13
    },
    {
      "id": "e78ae6db-f169-4989-954a-c940b523fd86",
      "cell_type": "code",
      "source": "petitions_2017_mod.head(3)",
      "metadata": {
        "trusted": true
      },
      "outputs": [
        {
          "execution_count": 14,
          "output_type": "execute_result",
          "data": {
            "text/plain": "                                           File Name Date of Petition  \\\n0  FDA-2017-P-0052-0001_Citizen_Petition_from_Don...         1/1/2017   \n1  FDA-2017-P-0115-0001_Citizen_Petition_from_Jub...       12/22/2016   \n2  FDA-2017-P-0137-0001_Citizen_Petition_from_Mac...         1/9/2017   \n\n  Date Comments     Identity of Submitting Entity Representation Details  \\\n0           NaN          Donor Sibling Registry\\n         Not mentioned.   \n1           NaN         Jubilant Generics Limited         Not mentioned.   \n2           NaN  Macleods Pharmaceuticals Limited         Not mentioned.   \n\n                       Cited Statutes or Regulations  \\\n0  - 21 C.F.R. § 10.20\\n- 21 C.F.R. § 10.30\\n- 21...   \n1  - Section 505(j)(2)(C) of the FD&C Act [21 U.S...   \n2  - Section 505(j) of the Federal Food, Drug, an...   \n\n                             FDA Action Commented On  \\\n0  Lack of regulation and oversight in the sperm ...   \n1  FDA’s requirement to approve an ANDA petition ...   \n2  The petition comments on the absence of a curr...   \n\n                                    Requested Action  \\\n0  The petitioner asks the FDA Commissioner to in...   \n1  FDA is requested to determine that Levetiracet...   \n2  Macleods requests FDA to designate the approve...   \n\n                           Justification for Request  Status of Review  \\\n0  The petition outlines that the U.S. cryobank i...             False   \n1  - The proposed product matches the RLD in conc...             False   \n2  - The current RLD (Pyrazinamide 500 mg by Dava...             False   \n\n  Review Comments                         Submitter        Submitter Type  \n0             NaN            Donor Sibling Registry     advocacy/academic  \n1             NaN         Jubilant Generics Limited  industry/corporation  \n2             NaN  Macleods Pharmaceuticals Limited  industry/corporation  ",
            "text/html": "<div>\n<style scoped>\n    .dataframe tbody tr th:only-of-type {\n        vertical-align: middle;\n    }\n\n    .dataframe tbody tr th {\n        vertical-align: top;\n    }\n\n    .dataframe thead th {\n        text-align: right;\n    }\n</style>\n<table border=\"1\" class=\"dataframe\">\n  <thead>\n    <tr style=\"text-align: right;\">\n      <th></th>\n      <th>File Name</th>\n      <th>Date of Petition</th>\n      <th>Date Comments</th>\n      <th>Identity of Submitting Entity</th>\n      <th>Representation Details</th>\n      <th>Cited Statutes or Regulations</th>\n      <th>FDA Action Commented On</th>\n      <th>Requested Action</th>\n      <th>Justification for Request</th>\n      <th>Status of Review</th>\n      <th>Review Comments</th>\n      <th>Submitter</th>\n      <th>Submitter Type</th>\n    </tr>\n  </thead>\n  <tbody>\n    <tr>\n      <th>0</th>\n      <td>FDA-2017-P-0052-0001_Citizen_Petition_from_Don...</td>\n      <td>1/1/2017</td>\n      <td>NaN</td>\n      <td>Donor Sibling Registry\\n</td>\n      <td>Not mentioned.</td>\n      <td>- 21 C.F.R. § 10.20\\n- 21 C.F.R. § 10.30\\n- 21...</td>\n      <td>Lack of regulation and oversight in the sperm ...</td>\n      <td>The petitioner asks the FDA Commissioner to in...</td>\n      <td>The petition outlines that the U.S. cryobank i...</td>\n      <td>False</td>\n      <td>NaN</td>\n      <td>Donor Sibling Registry</td>\n      <td>advocacy/academic</td>\n    </tr>\n    <tr>\n      <th>1</th>\n      <td>FDA-2017-P-0115-0001_Citizen_Petition_from_Jub...</td>\n      <td>12/22/2016</td>\n      <td>NaN</td>\n      <td>Jubilant Generics Limited</td>\n      <td>Not mentioned.</td>\n      <td>- Section 505(j)(2)(C) of the FD&amp;C Act [21 U.S...</td>\n      <td>FDA’s requirement to approve an ANDA petition ...</td>\n      <td>FDA is requested to determine that Levetiracet...</td>\n      <td>- The proposed product matches the RLD in conc...</td>\n      <td>False</td>\n      <td>NaN</td>\n      <td>Jubilant Generics Limited</td>\n      <td>industry/corporation</td>\n    </tr>\n    <tr>\n      <th>2</th>\n      <td>FDA-2017-P-0137-0001_Citizen_Petition_from_Mac...</td>\n      <td>1/9/2017</td>\n      <td>NaN</td>\n      <td>Macleods Pharmaceuticals Limited</td>\n      <td>Not mentioned.</td>\n      <td>- Section 505(j) of the Federal Food, Drug, an...</td>\n      <td>The petition comments on the absence of a curr...</td>\n      <td>Macleods requests FDA to designate the approve...</td>\n      <td>- The current RLD (Pyrazinamide 500 mg by Dava...</td>\n      <td>False</td>\n      <td>NaN</td>\n      <td>Macleods Pharmaceuticals Limited</td>\n      <td>industry/corporation</td>\n    </tr>\n  </tbody>\n</table>\n</div>"
          },
          "metadata": {}
        }
      ],
      "execution_count": 14
    },
    {
      "id": "28e76a0f-cdf3-49bb-aaa5-563bcb4edc2e",
      "cell_type": "markdown",
      "source": "### Combining petitions and responses data ",
      "metadata": {
        "tags": [],
        "editable": true,
        "slideshow": {
          "slide_type": ""
        }
      }
    },
    {
      "id": "54f5b979-26be-4e22-b4dd-46fbc519d712",
      "cell_type": "code",
      "source": "responses_2017.head(3)",
      "metadata": {
        "trusted": true
      },
      "outputs": [
        {
          "execution_count": 15,
          "output_type": "execute_result",
          "data": {
            "text/plain": "                                           File Name Date of Response  \\\n0  FDA-2017-P-0052-0150_Interim_Response_from_CBE...              NaN   \n1  FDA-2017-P-0052-0203_Response_letter_from_FDA_...              NaN   \n2  FDA-2017-P-0115-0007_Memorandum_of_suitability...        6/12/2023   \n\n                                       Date Comments  \\\n0  No date recognized by ChatGPT, but found in si...   \n1  No date recognized by ChatGPT, but found in si...   \n2                                                NaN   \n\n                               Responding FDA Center Response to Petition  \\\n0  Center for Biologics Evaluation and Research (...     Interim Response   \n1  Center for Biologics Evaluation and Research (...               Denied   \n2    Center for Drug Evaluation and Research (CDER)             Withdrawn   \n\n                       Cited Statutes or Regulations  \\\n0  21 CFR 10.30(e)(2) (FDA regulations on citizen...   \n1  - Section 361 of the Public Health Service Act...   \n2                                   Not applicable.    \n\n                          Justification for Response  Status of Review  \\\n0  The FDA cites \"existence of other FDA prioriti...             False   \n1  The FDA denied the petition based on the follo...             False   \n2  - FDA contacted the petitioner (Jubilant Gener...             False   \n\n  Review Comments  \n0             NaN  \n1             NaN  \n2             NaN  ",
            "text/html": "<div>\n<style scoped>\n    .dataframe tbody tr th:only-of-type {\n        vertical-align: middle;\n    }\n\n    .dataframe tbody tr th {\n        vertical-align: top;\n    }\n\n    .dataframe thead th {\n        text-align: right;\n    }\n</style>\n<table border=\"1\" class=\"dataframe\">\n  <thead>\n    <tr style=\"text-align: right;\">\n      <th></th>\n      <th>File Name</th>\n      <th>Date of Response</th>\n      <th>Date Comments</th>\n      <th>Responding FDA Center</th>\n      <th>Response to Petition</th>\n      <th>Cited Statutes or Regulations</th>\n      <th>Justification for Response</th>\n      <th>Status of Review</th>\n      <th>Review Comments</th>\n    </tr>\n  </thead>\n  <tbody>\n    <tr>\n      <th>0</th>\n      <td>FDA-2017-P-0052-0150_Interim_Response_from_CBE...</td>\n      <td>NaN</td>\n      <td>No date recognized by ChatGPT, but found in si...</td>\n      <td>Center for Biologics Evaluation and Research (...</td>\n      <td>Interim Response</td>\n      <td>21 CFR 10.30(e)(2) (FDA regulations on citizen...</td>\n      <td>The FDA cites \"existence of other FDA prioriti...</td>\n      <td>False</td>\n      <td>NaN</td>\n    </tr>\n    <tr>\n      <th>1</th>\n      <td>FDA-2017-P-0052-0203_Response_letter_from_FDA_...</td>\n      <td>NaN</td>\n      <td>No date recognized by ChatGPT, but found in si...</td>\n      <td>Center for Biologics Evaluation and Research (...</td>\n      <td>Denied</td>\n      <td>- Section 361 of the Public Health Service Act...</td>\n      <td>The FDA denied the petition based on the follo...</td>\n      <td>False</td>\n      <td>NaN</td>\n    </tr>\n    <tr>\n      <th>2</th>\n      <td>FDA-2017-P-0115-0007_Memorandum_of_suitability...</td>\n      <td>6/12/2023</td>\n      <td>NaN</td>\n      <td>Center for Drug Evaluation and Research (CDER)</td>\n      <td>Withdrawn</td>\n      <td>Not applicable.</td>\n      <td>- FDA contacted the petitioner (Jubilant Gener...</td>\n      <td>False</td>\n      <td>NaN</td>\n    </tr>\n  </tbody>\n</table>\n</div>"
          },
          "metadata": {}
        }
      ],
      "execution_count": 15
    },
    {
      "id": "b19fc87d-8a0a-46ce-9c44-d33c8b6d8d66",
      "cell_type": "code",
      "source": "responses_2017_mod = responses_2017.drop([\"Status of Review\", \"Review Comments\"], axis = \"columns\")\n#responses_2017_mod",
      "metadata": {
        "trusted": true
      },
      "outputs": [],
      "execution_count": 16
    },
    {
      "id": "9095b009-895f-4073-9cba-937dfc2f7d16",
      "cell_type": "code",
      "source": "# use numbers after \"FDA-2017-P-...\" as unique id\npetitions_2017_mod[\"File ID\"] = petitions_2017_mod[\"File Name\"].str.extract(r'(FDA-\\d{4}-P-\\d{4})')\ndisplay(petitions_2017_mod.head(3))\nresponses_2017_mod[\"File ID\"] = responses_2017_mod[\"File Name\"].str.extract(r'(FDA-\\d{4}-P-\\d{4})')\ndisplay(responses_2017_mod.head(3))",
      "metadata": {
        "trusted": true
      },
      "outputs": [
        {
          "output_type": "display_data",
          "data": {
            "text/plain": "                                           File Name Date of Petition  \\\n0  FDA-2017-P-0052-0001_Citizen_Petition_from_Don...         1/1/2017   \n1  FDA-2017-P-0115-0001_Citizen_Petition_from_Jub...       12/22/2016   \n2  FDA-2017-P-0137-0001_Citizen_Petition_from_Mac...         1/9/2017   \n\n  Date Comments     Identity of Submitting Entity Representation Details  \\\n0           NaN          Donor Sibling Registry\\n         Not mentioned.   \n1           NaN         Jubilant Generics Limited         Not mentioned.   \n2           NaN  Macleods Pharmaceuticals Limited         Not mentioned.   \n\n                       Cited Statutes or Regulations  \\\n0  - 21 C.F.R. § 10.20\\n- 21 C.F.R. § 10.30\\n- 21...   \n1  - Section 505(j)(2)(C) of the FD&C Act [21 U.S...   \n2  - Section 505(j) of the Federal Food, Drug, an...   \n\n                             FDA Action Commented On  \\\n0  Lack of regulation and oversight in the sperm ...   \n1  FDA’s requirement to approve an ANDA petition ...   \n2  The petition comments on the absence of a curr...   \n\n                                    Requested Action  \\\n0  The petitioner asks the FDA Commissioner to in...   \n1  FDA is requested to determine that Levetiracet...   \n2  Macleods requests FDA to designate the approve...   \n\n                           Justification for Request  Status of Review  \\\n0  The petition outlines that the U.S. cryobank i...             False   \n1  - The proposed product matches the RLD in conc...             False   \n2  - The current RLD (Pyrazinamide 500 mg by Dava...             False   \n\n  Review Comments                         Submitter        Submitter Type  \\\n0             NaN            Donor Sibling Registry     advocacy/academic   \n1             NaN         Jubilant Generics Limited  industry/corporation   \n2             NaN  Macleods Pharmaceuticals Limited  industry/corporation   \n\n           File ID  \n0  FDA-2017-P-0052  \n1  FDA-2017-P-0115  \n2  FDA-2017-P-0137  ",
            "text/html": "<div>\n<style scoped>\n    .dataframe tbody tr th:only-of-type {\n        vertical-align: middle;\n    }\n\n    .dataframe tbody tr th {\n        vertical-align: top;\n    }\n\n    .dataframe thead th {\n        text-align: right;\n    }\n</style>\n<table border=\"1\" class=\"dataframe\">\n  <thead>\n    <tr style=\"text-align: right;\">\n      <th></th>\n      <th>File Name</th>\n      <th>Date of Petition</th>\n      <th>Date Comments</th>\n      <th>Identity of Submitting Entity</th>\n      <th>Representation Details</th>\n      <th>Cited Statutes or Regulations</th>\n      <th>FDA Action Commented On</th>\n      <th>Requested Action</th>\n      <th>Justification for Request</th>\n      <th>Status of Review</th>\n      <th>Review Comments</th>\n      <th>Submitter</th>\n      <th>Submitter Type</th>\n      <th>File ID</th>\n    </tr>\n  </thead>\n  <tbody>\n    <tr>\n      <th>0</th>\n      <td>FDA-2017-P-0052-0001_Citizen_Petition_from_Don...</td>\n      <td>1/1/2017</td>\n      <td>NaN</td>\n      <td>Donor Sibling Registry\\n</td>\n      <td>Not mentioned.</td>\n      <td>- 21 C.F.R. § 10.20\\n- 21 C.F.R. § 10.30\\n- 21...</td>\n      <td>Lack of regulation and oversight in the sperm ...</td>\n      <td>The petitioner asks the FDA Commissioner to in...</td>\n      <td>The petition outlines that the U.S. cryobank i...</td>\n      <td>False</td>\n      <td>NaN</td>\n      <td>Donor Sibling Registry</td>\n      <td>advocacy/academic</td>\n      <td>FDA-2017-P-0052</td>\n    </tr>\n    <tr>\n      <th>1</th>\n      <td>FDA-2017-P-0115-0001_Citizen_Petition_from_Jub...</td>\n      <td>12/22/2016</td>\n      <td>NaN</td>\n      <td>Jubilant Generics Limited</td>\n      <td>Not mentioned.</td>\n      <td>- Section 505(j)(2)(C) of the FD&amp;C Act [21 U.S...</td>\n      <td>FDA’s requirement to approve an ANDA petition ...</td>\n      <td>FDA is requested to determine that Levetiracet...</td>\n      <td>- The proposed product matches the RLD in conc...</td>\n      <td>False</td>\n      <td>NaN</td>\n      <td>Jubilant Generics Limited</td>\n      <td>industry/corporation</td>\n      <td>FDA-2017-P-0115</td>\n    </tr>\n    <tr>\n      <th>2</th>\n      <td>FDA-2017-P-0137-0001_Citizen_Petition_from_Mac...</td>\n      <td>1/9/2017</td>\n      <td>NaN</td>\n      <td>Macleods Pharmaceuticals Limited</td>\n      <td>Not mentioned.</td>\n      <td>- Section 505(j) of the Federal Food, Drug, an...</td>\n      <td>The petition comments on the absence of a curr...</td>\n      <td>Macleods requests FDA to designate the approve...</td>\n      <td>- The current RLD (Pyrazinamide 500 mg by Dava...</td>\n      <td>False</td>\n      <td>NaN</td>\n      <td>Macleods Pharmaceuticals Limited</td>\n      <td>industry/corporation</td>\n      <td>FDA-2017-P-0137</td>\n    </tr>\n  </tbody>\n</table>\n</div>"
          },
          "metadata": {}
        },
        {
          "output_type": "display_data",
          "data": {
            "text/plain": "                                           File Name Date of Response  \\\n0  FDA-2017-P-0052-0150_Interim_Response_from_CBE...              NaN   \n1  FDA-2017-P-0052-0203_Response_letter_from_FDA_...              NaN   \n2  FDA-2017-P-0115-0007_Memorandum_of_suitability...        6/12/2023   \n\n                                       Date Comments  \\\n0  No date recognized by ChatGPT, but found in si...   \n1  No date recognized by ChatGPT, but found in si...   \n2                                                NaN   \n\n                               Responding FDA Center Response to Petition  \\\n0  Center for Biologics Evaluation and Research (...     Interim Response   \n1  Center for Biologics Evaluation and Research (...               Denied   \n2    Center for Drug Evaluation and Research (CDER)             Withdrawn   \n\n                       Cited Statutes or Regulations  \\\n0  21 CFR 10.30(e)(2) (FDA regulations on citizen...   \n1  - Section 361 of the Public Health Service Act...   \n2                                   Not applicable.    \n\n                          Justification for Response          File ID  \n0  The FDA cites \"existence of other FDA prioriti...  FDA-2017-P-0052  \n1  The FDA denied the petition based on the follo...  FDA-2017-P-0052  \n2  - FDA contacted the petitioner (Jubilant Gener...  FDA-2017-P-0115  ",
            "text/html": "<div>\n<style scoped>\n    .dataframe tbody tr th:only-of-type {\n        vertical-align: middle;\n    }\n\n    .dataframe tbody tr th {\n        vertical-align: top;\n    }\n\n    .dataframe thead th {\n        text-align: right;\n    }\n</style>\n<table border=\"1\" class=\"dataframe\">\n  <thead>\n    <tr style=\"text-align: right;\">\n      <th></th>\n      <th>File Name</th>\n      <th>Date of Response</th>\n      <th>Date Comments</th>\n      <th>Responding FDA Center</th>\n      <th>Response to Petition</th>\n      <th>Cited Statutes or Regulations</th>\n      <th>Justification for Response</th>\n      <th>File ID</th>\n    </tr>\n  </thead>\n  <tbody>\n    <tr>\n      <th>0</th>\n      <td>FDA-2017-P-0052-0150_Interim_Response_from_CBE...</td>\n      <td>NaN</td>\n      <td>No date recognized by ChatGPT, but found in si...</td>\n      <td>Center for Biologics Evaluation and Research (...</td>\n      <td>Interim Response</td>\n      <td>21 CFR 10.30(e)(2) (FDA regulations on citizen...</td>\n      <td>The FDA cites \"existence of other FDA prioriti...</td>\n      <td>FDA-2017-P-0052</td>\n    </tr>\n    <tr>\n      <th>1</th>\n      <td>FDA-2017-P-0052-0203_Response_letter_from_FDA_...</td>\n      <td>NaN</td>\n      <td>No date recognized by ChatGPT, but found in si...</td>\n      <td>Center for Biologics Evaluation and Research (...</td>\n      <td>Denied</td>\n      <td>- Section 361 of the Public Health Service Act...</td>\n      <td>The FDA denied the petition based on the follo...</td>\n      <td>FDA-2017-P-0052</td>\n    </tr>\n    <tr>\n      <th>2</th>\n      <td>FDA-2017-P-0115-0007_Memorandum_of_suitability...</td>\n      <td>6/12/2023</td>\n      <td>NaN</td>\n      <td>Center for Drug Evaluation and Research (CDER)</td>\n      <td>Withdrawn</td>\n      <td>Not applicable.</td>\n      <td>- FDA contacted the petitioner (Jubilant Gener...</td>\n      <td>FDA-2017-P-0115</td>\n    </tr>\n  </tbody>\n</table>\n</div>"
          },
          "metadata": {}
        }
      ],
      "execution_count": 17
    },
    {
      "id": "d95b6b66-838c-4379-90e1-ca07759db702",
      "cell_type": "code",
      "source": "# FINALIZING petitions data\n# adding withdrawals as a feature (separate column), so file id can be unique\npetitions_2017_mod[\"Withdrawal File\"] = petitions_2017_mod[\"File Name\"].str.lower().str.contains(\"withdraw\")\nwithdrawals_id = petitions_2017_mod[petitions_2017_mod[\"Withdrawal File\"] == True][\"File ID\"]\npetitions_2017_mod['Was_Withdrawn'] = petitions_2017_mod[\"File ID\"].isin(withdrawals_id)\n\n# cleaning\npetitions_2017_main = petitions_2017_mod[petitions_2017_mod[\"Withdrawal File\"] == False].copy()\npetitions_2017_main = petitions_2017_main.drop([\"Identity of Submitting Entity\", \"Withdrawal File\", \"Status of Review\", \"File Name\", \n                                                \"Date Comments\", \"Representation Details\", \"Review Comments\"], axis = \"columns\")\npetitions_2017_main = petitions_2017_main.rename(columns = {\"Cited Statutes or Regulations\": \"Petition Cited Statutes or Regulations\"})\nnew_column_order = ['File ID', 'Date of Petition', 'Was_Withdrawn', 'Submitter', 'Submitter Type',  \n                    'Petition Cited Statutes or Regulations', 'FDA Action Commented On', 'Requested Action', 'Justification for Request']\n\npetitions_2017_main = petitions_2017_main[new_column_order]\n\npetitions_2017_main.head(3)\npetitions_2017_main.to_csv(\"petitions_2017_main.csv\", index=False)\n",
      "metadata": {
        "trusted": true
      },
      "outputs": [],
      "execution_count": 20
    },
    {
      "id": "356a0017-fdb6-4444-9427-20333bff94e2",
      "cell_type": "code",
      "source": "# final decision for each petition (ignoring interim)\nfinal_decisions = responses_2017_mod[~responses_2017_mod[\"Response to Petition\"].str.lower().str.contains(\"interim\")].groupby(\"File ID\")[\"Response to Petition\"].first()\n#final_decisions\n\n# count of interim responses for each file id\ninterim_counts = responses_2017_mod[responses_2017_mod[\"Response to Petition\"].str.lower().str.contains(\"interim\")].groupby(\"File ID\").size()\n#interim_counts\n\n# date of interim & very last response for each file id\nfinal_decision_dates = responses_2017_mod.groupby(\"File ID\")[\"Date of Response\"].max()\ninterim_dates = responses_2017_mod[responses_2017_mod[\"Response to Petition\"].str.lower().str.contains(\"interim\")].groupby(\"File ID\")[\"Date of Response\"].first()\n\n# responding FDA center\nfda_center = responses_2017_mod.groupby(\"File ID\")[\"Responding FDA Center\"].first()\n\n# cited statutes or regulations (ignoring interim)\nstatutes_regs = responses_2017_mod[~responses_2017_mod[\"Response to Petition\"].str.lower().str.contains(\"interim\")].groupby(\"File ID\")[\"Cited Statutes or Regulations\"].first()\n\n# justification for interim response \njust_interim = responses_2017_mod[responses_2017_mod[\"Response to Petition\"].str.lower().str.contains(\"interim\")].groupby(\"File ID\")[\"Justification for Response\"].first()\n\n# justification for final response\njust_final = responses_2017_mod[~responses_2017_mod[\"Response to Petition\"].str.lower().str.contains(\"interim\")].groupby(\"File ID\")[\"Justification for Response\"].first()\n\n# new responses df\nresponses_agg = pd.DataFrame({\n    \"Final Decision\": final_decisions,\n    \"Number of Interim Responses\": interim_counts,\n    \"Interim Response Date\": interim_dates,\n    \"Last Response Date\": final_decision_dates,\n    \"Responding FDA Center\": fda_center,\n    \"Responses Cited Statutes or Regulations\": statutes_regs,\n    \"Justification for Interim Response\": just_interim,\n    \"Justification for Final Response\": just_final\n}).reset_index()\n\n# fill in 0 for petitions that had a final decision but no interim responses\nresponses_agg[\"Number of Interim Responses\"] = responses_agg[\"Number of Interim Responses\"].fillna(0)\n#responses_agg[\"Interim_Response_Date\"] = responses_agg[\"Interim_Response_Date\"].fillna(np.NaN)\n\n# merging into FINAL DF!\nfinal_df = pd.merge(petitions_2017_main, responses_agg, on = \"File ID\", how = \"left\")\n\ndisplay(responses_agg.head())\ndisplay(final_df.head())\n\n# download the final version\nfinal_df.to_csv(\"final_version_petitions_and_responses.csv\", index=False)",
      "metadata": {
        "trusted": true
      },
      "outputs": [
        {
          "output_type": "display_data",
          "data": {
            "text/plain": "           File ID Final Decision  Number of Interim Responses  \\\n0  FDA-2017-P-0052         Denied                          1.0   \n1  FDA-2017-P-0115      Withdrawn                          0.0   \n2  FDA-2017-P-0137            NaN                          1.0   \n3  FDA-2017-P-0176            NaN                          1.0   \n4  FDA-2017-P-0290         Denied                          0.0   \n\n  Interim Response Date Last Response Date  \\\n0                  None                NaN   \n1                   NaN          6/12/2023   \n2              7/7/2017           7/7/2017   \n3              2/2/2018           2/2/2018   \n4                   NaN          6/26/2017   \n\n                               Responding FDA Center  \\\n0  Center for Biologics Evaluation and Research (...   \n1    Center for Drug Evaluation and Research (CDER)    \n2    Center for Drug Evaluation and Research (CDER)    \n3  Center for Food Safety and Applied Nutrition (...   \n4  Center for Devices and Radiological Health (CD...   \n\n             Responses Cited Statutes or Regulations  \\\n0  - Section 361 of the Public Health Service Act...   \n1                                   Not applicable.    \n2                                                NaN   \n3                                                NaN   \n4  - 21 CFR 1.94, 21 CFR 1.95, 21 CFR 1.96\\n- 21 ...   \n\n                  Justification for Interim Response  \\\n0  The FDA cites \"existence of other FDA prioriti...   \n1                                                NaN   \n2  The FDA stated that the petition \"raises compl...   \n3  The FDA stated the petition is under active ev...   \n4                                                NaN   \n\n                    Justification for Final Response  \n0  The FDA denied the petition based on the follo...  \n1  - FDA contacted the petitioner (Jubilant Gener...  \n2                                                NaN  \n3                                                NaN  \n4  - The FDA determined that powdered surgeon’s g...  ",
            "text/html": "<div>\n<style scoped>\n    .dataframe tbody tr th:only-of-type {\n        vertical-align: middle;\n    }\n\n    .dataframe tbody tr th {\n        vertical-align: top;\n    }\n\n    .dataframe thead th {\n        text-align: right;\n    }\n</style>\n<table border=\"1\" class=\"dataframe\">\n  <thead>\n    <tr style=\"text-align: right;\">\n      <th></th>\n      <th>File ID</th>\n      <th>Final Decision</th>\n      <th>Number of Interim Responses</th>\n      <th>Interim Response Date</th>\n      <th>Last Response Date</th>\n      <th>Responding FDA Center</th>\n      <th>Responses Cited Statutes or Regulations</th>\n      <th>Justification for Interim Response</th>\n      <th>Justification for Final Response</th>\n    </tr>\n  </thead>\n  <tbody>\n    <tr>\n      <th>0</th>\n      <td>FDA-2017-P-0052</td>\n      <td>Denied</td>\n      <td>1.0</td>\n      <td>None</td>\n      <td>NaN</td>\n      <td>Center for Biologics Evaluation and Research (...</td>\n      <td>- Section 361 of the Public Health Service Act...</td>\n      <td>The FDA cites \"existence of other FDA prioriti...</td>\n      <td>The FDA denied the petition based on the follo...</td>\n    </tr>\n    <tr>\n      <th>1</th>\n      <td>FDA-2017-P-0115</td>\n      <td>Withdrawn</td>\n      <td>0.0</td>\n      <td>NaN</td>\n      <td>6/12/2023</td>\n      <td>Center for Drug Evaluation and Research (CDER)</td>\n      <td>Not applicable.</td>\n      <td>NaN</td>\n      <td>- FDA contacted the petitioner (Jubilant Gener...</td>\n    </tr>\n    <tr>\n      <th>2</th>\n      <td>FDA-2017-P-0137</td>\n      <td>NaN</td>\n      <td>1.0</td>\n      <td>7/7/2017</td>\n      <td>7/7/2017</td>\n      <td>Center for Drug Evaluation and Research (CDER)</td>\n      <td>NaN</td>\n      <td>The FDA stated that the petition \"raises compl...</td>\n      <td>NaN</td>\n    </tr>\n    <tr>\n      <th>3</th>\n      <td>FDA-2017-P-0176</td>\n      <td>NaN</td>\n      <td>1.0</td>\n      <td>2/2/2018</td>\n      <td>2/2/2018</td>\n      <td>Center for Food Safety and Applied Nutrition (...</td>\n      <td>NaN</td>\n      <td>The FDA stated the petition is under active ev...</td>\n      <td>NaN</td>\n    </tr>\n    <tr>\n      <th>4</th>\n      <td>FDA-2017-P-0290</td>\n      <td>Denied</td>\n      <td>0.0</td>\n      <td>NaN</td>\n      <td>6/26/2017</td>\n      <td>Center for Devices and Radiological Health (CD...</td>\n      <td>- 21 CFR 1.94, 21 CFR 1.95, 21 CFR 1.96\\n- 21 ...</td>\n      <td>NaN</td>\n      <td>- The FDA determined that powdered surgeon’s g...</td>\n    </tr>\n  </tbody>\n</table>\n</div>"
          },
          "metadata": {}
        },
        {
          "output_type": "display_data",
          "data": {
            "text/plain": "           File ID Date of Petition  Was_Withdrawn  \\\n0  FDA-2017-P-0052         1/1/2017          False   \n1  FDA-2017-P-0115       12/22/2016          False   \n2  FDA-2017-P-0137         1/9/2017           True   \n3  FDA-2017-P-0176         1/9/2017          False   \n4  FDA-2017-P-0290        1/17/2017          False   \n\n                                           Submitter        Submitter Type  \\\n0                             Donor Sibling Registry     advocacy/academic   \n1                          Jubilant Generics Limited  industry/corporation   \n2                   Macleods Pharmaceuticals Limited  industry/corporation   \n3                  Kleinfeld, Kaplan and Becker, LLP        law/consulting   \n4  Malaysian Rubber Export Promotion Council (MREPC)     advocacy/academic   \n\n              Petition Cited Statutes or Regulations  \\\n0  - 21 C.F.R. § 10.20\\n- 21 C.F.R. § 10.30\\n- 21...   \n1  - Section 505(j)(2)(C) of the FD&C Act [21 U.S...   \n2  - Section 505(j) of the Federal Food, Drug, an...   \n3  - 21 C.F.R. § 10.30 (Citizen Petition procedur...   \n4  - FDA Docket No. FDA-2015-N-5017 (Final Rule)\\...   \n\n                             FDA Action Commented On  \\\n0  Lack of regulation and oversight in the sperm ...   \n1  FDA’s requirement to approve an ANDA petition ...   \n2  The petition comments on the absence of a curr...   \n3  The FDA’s proposed amendment to 21 C.F.R. § 10...   \n4  The FDA’s Final Rule banning powdered surgeon’...   \n\n                                    Requested Action  \\\n0  The petitioner asks the FDA Commissioner to in...   \n1  FDA is requested to determine that Levetiracet...   \n2  Macleods requests FDA to designate the approve...   \n3  AHPA requests that FDA:\\n1. Withdraw the propo...   \n4  MREPC requests a two-month extension of the Fi...   \n\n                           Justification for Request Final Decision  \\\n0  The petition outlines that the U.S. cryobank i...         Denied   \n1  - The proposed product matches the RLD in conc...      Withdrawn   \n2  - The current RLD (Pyrazinamide 500 mg by Dava...            NaN   \n3  - The current reference (Herbs of Commerce, 1s...            NaN   \n4  - The short notice between the Final Rule anno...         Denied   \n\n   Number of Interim Responses Interim Response Date Last Response Date  \\\n0                          1.0                  None                NaN   \n1                          0.0                   NaN          6/12/2023   \n2                          1.0              7/7/2017           7/7/2017   \n3                          1.0              2/2/2018           2/2/2018   \n4                          0.0                   NaN          6/26/2017   \n\n                               Responding FDA Center  \\\n0  Center for Biologics Evaluation and Research (...   \n1    Center for Drug Evaluation and Research (CDER)    \n2    Center for Drug Evaluation and Research (CDER)    \n3  Center for Food Safety and Applied Nutrition (...   \n4  Center for Devices and Radiological Health (CD...   \n\n             Responses Cited Statutes or Regulations  \\\n0  - Section 361 of the Public Health Service Act...   \n1                                   Not applicable.    \n2                                                NaN   \n3                                                NaN   \n4  - 21 CFR 1.94, 21 CFR 1.95, 21 CFR 1.96\\n- 21 ...   \n\n                  Justification for Interim Response  \\\n0  The FDA cites \"existence of other FDA prioriti...   \n1                                                NaN   \n2  The FDA stated that the petition \"raises compl...   \n3  The FDA stated the petition is under active ev...   \n4                                                NaN   \n\n                    Justification for Final Response  \n0  The FDA denied the petition based on the follo...  \n1  - FDA contacted the petitioner (Jubilant Gener...  \n2                                                NaN  \n3                                                NaN  \n4  - The FDA determined that powdered surgeon’s g...  ",
            "text/html": "<div>\n<style scoped>\n    .dataframe tbody tr th:only-of-type {\n        vertical-align: middle;\n    }\n\n    .dataframe tbody tr th {\n        vertical-align: top;\n    }\n\n    .dataframe thead th {\n        text-align: right;\n    }\n</style>\n<table border=\"1\" class=\"dataframe\">\n  <thead>\n    <tr style=\"text-align: right;\">\n      <th></th>\n      <th>File ID</th>\n      <th>Date of Petition</th>\n      <th>Was_Withdrawn</th>\n      <th>Submitter</th>\n      <th>Submitter Type</th>\n      <th>Petition Cited Statutes or Regulations</th>\n      <th>FDA Action Commented On</th>\n      <th>Requested Action</th>\n      <th>Justification for Request</th>\n      <th>Final Decision</th>\n      <th>Number of Interim Responses</th>\n      <th>Interim Response Date</th>\n      <th>Last Response Date</th>\n      <th>Responding FDA Center</th>\n      <th>Responses Cited Statutes or Regulations</th>\n      <th>Justification for Interim Response</th>\n      <th>Justification for Final Response</th>\n    </tr>\n  </thead>\n  <tbody>\n    <tr>\n      <th>0</th>\n      <td>FDA-2017-P-0052</td>\n      <td>1/1/2017</td>\n      <td>False</td>\n      <td>Donor Sibling Registry</td>\n      <td>advocacy/academic</td>\n      <td>- 21 C.F.R. § 10.20\\n- 21 C.F.R. § 10.30\\n- 21...</td>\n      <td>Lack of regulation and oversight in the sperm ...</td>\n      <td>The petitioner asks the FDA Commissioner to in...</td>\n      <td>The petition outlines that the U.S. cryobank i...</td>\n      <td>Denied</td>\n      <td>1.0</td>\n      <td>None</td>\n      <td>NaN</td>\n      <td>Center for Biologics Evaluation and Research (...</td>\n      <td>- Section 361 of the Public Health Service Act...</td>\n      <td>The FDA cites \"existence of other FDA prioriti...</td>\n      <td>The FDA denied the petition based on the follo...</td>\n    </tr>\n    <tr>\n      <th>1</th>\n      <td>FDA-2017-P-0115</td>\n      <td>12/22/2016</td>\n      <td>False</td>\n      <td>Jubilant Generics Limited</td>\n      <td>industry/corporation</td>\n      <td>- Section 505(j)(2)(C) of the FD&amp;C Act [21 U.S...</td>\n      <td>FDA’s requirement to approve an ANDA petition ...</td>\n      <td>FDA is requested to determine that Levetiracet...</td>\n      <td>- The proposed product matches the RLD in conc...</td>\n      <td>Withdrawn</td>\n      <td>0.0</td>\n      <td>NaN</td>\n      <td>6/12/2023</td>\n      <td>Center for Drug Evaluation and Research (CDER)</td>\n      <td>Not applicable.</td>\n      <td>NaN</td>\n      <td>- FDA contacted the petitioner (Jubilant Gener...</td>\n    </tr>\n    <tr>\n      <th>2</th>\n      <td>FDA-2017-P-0137</td>\n      <td>1/9/2017</td>\n      <td>True</td>\n      <td>Macleods Pharmaceuticals Limited</td>\n      <td>industry/corporation</td>\n      <td>- Section 505(j) of the Federal Food, Drug, an...</td>\n      <td>The petition comments on the absence of a curr...</td>\n      <td>Macleods requests FDA to designate the approve...</td>\n      <td>- The current RLD (Pyrazinamide 500 mg by Dava...</td>\n      <td>NaN</td>\n      <td>1.0</td>\n      <td>7/7/2017</td>\n      <td>7/7/2017</td>\n      <td>Center for Drug Evaluation and Research (CDER)</td>\n      <td>NaN</td>\n      <td>The FDA stated that the petition \"raises compl...</td>\n      <td>NaN</td>\n    </tr>\n    <tr>\n      <th>3</th>\n      <td>FDA-2017-P-0176</td>\n      <td>1/9/2017</td>\n      <td>False</td>\n      <td>Kleinfeld, Kaplan and Becker, LLP</td>\n      <td>law/consulting</td>\n      <td>- 21 C.F.R. § 10.30 (Citizen Petition procedur...</td>\n      <td>The FDA’s proposed amendment to 21 C.F.R. § 10...</td>\n      <td>AHPA requests that FDA:\\n1. Withdraw the propo...</td>\n      <td>- The current reference (Herbs of Commerce, 1s...</td>\n      <td>NaN</td>\n      <td>1.0</td>\n      <td>2/2/2018</td>\n      <td>2/2/2018</td>\n      <td>Center for Food Safety and Applied Nutrition (...</td>\n      <td>NaN</td>\n      <td>The FDA stated the petition is under active ev...</td>\n      <td>NaN</td>\n    </tr>\n    <tr>\n      <th>4</th>\n      <td>FDA-2017-P-0290</td>\n      <td>1/17/2017</td>\n      <td>False</td>\n      <td>Malaysian Rubber Export Promotion Council (MREPC)</td>\n      <td>advocacy/academic</td>\n      <td>- FDA Docket No. FDA-2015-N-5017 (Final Rule)\\...</td>\n      <td>The FDA’s Final Rule banning powdered surgeon’...</td>\n      <td>MREPC requests a two-month extension of the Fi...</td>\n      <td>- The short notice between the Final Rule anno...</td>\n      <td>Denied</td>\n      <td>0.0</td>\n      <td>NaN</td>\n      <td>6/26/2017</td>\n      <td>Center for Devices and Radiological Health (CD...</td>\n      <td>- 21 CFR 1.94, 21 CFR 1.95, 21 CFR 1.96\\n- 21 ...</td>\n      <td>NaN</td>\n      <td>- The FDA determined that powdered surgeon’s g...</td>\n    </tr>\n  </tbody>\n</table>\n</div>"
          },
          "metadata": {}
        }
      ],
      "execution_count": 19
    },
    {
      "id": "44e42a63-b0cf-4c77-802e-d34aa0b952db",
      "cell_type": "code",
      "source": "",
      "metadata": {
        "trusted": true
      },
      "outputs": [],
      "execution_count": null
    }
  ]
}